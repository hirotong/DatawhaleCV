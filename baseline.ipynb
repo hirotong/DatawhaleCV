{
 "cells": [
  {
   "cell_type": "code",
   "source": [
    "a = tuple(str(i) for i in range(10))\n"
   ],
   "metadata": {
    "collapsed": false,
    "pycharm": {
     "name": "#%%\n"
    }
   },
   "execution_count": 8,
   "outputs": []
  },
  {
   "cell_type": "code",
   "execution_count": 9,
   "outputs": [
    {
     "name": "stdout",
     "output_type": "stream",
     "text": [
      "('0', '1', '2', '3', '4', '5', '6', '7', '8', '9')\n"
     ]
    }
   ],
   "source": [
    "print(a)\n",
    "\n",
    "\n"
   ],
   "metadata": {
    "collapsed": false,
    "pycharm": {
     "name": "#%%\n"
    }
   }
  },
  {
   "cell_type": "code",
   "execution_count": 21,
   "outputs": [],
   "source": [
    "svhn_labels = tuple(str(i) for i in range(10))\n",
    "\n",
    "svhn_label_map = {k: v + 1 for v, k in enumerate(svhn_labels)}\n",
    "\n",
    "svhn_label_map['background'] = 0\n",
    "\n",
    "rev_label_map = {v: k for k, v in svhn_label_map.items()}"
   ],
   "metadata": {
    "collapsed": false,
    "pycharm": {
     "name": "#%%\n"
    }
   }
  },
  {
   "cell_type": "code",
   "execution_count": 13,
   "outputs": [],
   "source": [
    "import json\n",
    "with open('./Dataset/mchar_train.json','r') as f:\n",
    "    data = json.load(f)"
   ],
   "metadata": {
    "collapsed": false,
    "pycharm": {
     "name": "#%%\n"
    }
   }
  },
  {
   "cell_type": "code",
   "execution_count": 18,
   "outputs": [
    {
     "name": "stdout",
     "output_type": "stream",
     "text": [
      "n: 30000, width: 3848170, height: 1716920\n"
     ]
    }
   ],
   "source": [
    "import os\n",
    "from PIL import Image\n",
    "height = 0\n",
    "width = 0\n",
    "n = 0\n",
    "for i in data:\n",
    "    image = Image.open(os.path.join('./Dataset/mchar_train', i))\n",
    "    width += image.width\n",
    "    height += image.height\n",
    "    n+=1\n",
    "print(f'n: {n}, width: {width}, height: {height}')"
   ],
   "metadata": {
    "collapsed": false,
    "pycharm": {
     "name": "#%%\n"
    }
   }
  },
  {
   "cell_type": "code",
   "execution_count": 20,
   "outputs": [
    {
     "name": "stdout",
     "output_type": "stream",
     "text": [
      "128.27233333333334\n",
      "57.230666666666664\n"
     ]
    }
   ],
   "source": [
    "print(width / n)\n",
    "print(height / n)"
   ],
   "metadata": {
    "collapsed": false,
    "pycharm": {
     "name": "#%%\n"
    }
   }
  },
  {
   "cell_type": "code",
   "execution_count": null,
   "outputs": [],
   "source": [
    "\n"
   ],
   "metadata": {
    "collapsed": false,
    "pycharm": {
     "name": "#%%\n"
    }
   }
  }
 ],
 "metadata": {
  "kernelspec": {
   "name": "python361064bitpy36conda0757c955b1004a7fa9c1c58b748a9814",
   "language": "python",
   "display_name": "Python 3.6.10 64-bit ('py36': conda)"
  },
  "language_info": {
   "codemirror_mode": {
    "name": "ipython",
    "version": 2
   },
   "file_extension": ".py",
   "mimetype": "text/x-python",
   "name": "python",
   "nbconvert_exporter": "python",
   "pygments_lexer": "ipython2",
   "version": "3.7.6-final"
  }
 },
 "nbformat": 4,
 "nbformat_minor": 0
}